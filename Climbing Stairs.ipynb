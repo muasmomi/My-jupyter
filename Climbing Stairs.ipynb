{
 "cells": [
  {
   "cell_type": "markdown",
   "id": "efede604",
   "metadata": {},
   "source": [
    "You are climbing a staircase. It takes n steps to reach the top.\n",
    "\n",
    "Each time you can either climb 1 or 2 steps. In how many distinct ways can you climb to the top?"
   ]
  },
  {
   "cell_type": "code",
   "execution_count": 7,
   "id": "0d2fc3ec",
   "metadata": {},
   "outputs": [
    {
     "name": "stdout",
     "output_type": "stream",
     "text": [
      "Enter number of step of staircase: 4\n",
      "[0, 1, 2, 3, 5]\n",
      "5\n"
     ]
    }
   ],
   "source": [
    "def climbStairs(n):\n",
    "    if n == 1:\n",
    "        return 1\n",
    "    elif n == 2:\n",
    "        return 2\n",
    "    elif n == 0:\n",
    "        return 0\n",
    "\n",
    "    # Create a list to store the number of ways to reach each step\n",
    "    dp = [0] * (n + 1)\n",
    "\n",
    "    # Base cases for the first two steps\n",
    "    dp[1] = 1\n",
    "    dp[2] = 2\n",
    "\n",
    "    # Calculate the number of ways for each step up to n\n",
    "    for i in range(3, n + 1):\n",
    "        dp[i] = dp[i - 1] + dp[i - 2]\n",
    "    print(dp)\n",
    "\n",
    "    return dp[i]\n",
    "\n",
    "# Test the function with an example\n",
    "n = int(input(\"Enter number of step of staircase: \"))\n",
    "print(climbStairs(n))  # Output: 5 (5 distinct ways: 1+1+1+1, 1+1+2, 1+2+1, 2+1+1, 2+2)\n"
   ]
  },
  {
   "cell_type": "code",
   "execution_count": 8,
   "id": "df98f3aa",
   "metadata": {},
   "outputs": [
    {
     "name": "stdout",
     "output_type": "stream",
     "text": [
      "5\n"
     ]
    }
   ],
   "source": [
    "def climbStairs(n):\n",
    "    if n == 1:\n",
    "        return 1\n",
    "    elif n == 2:\n",
    "        return 2\n",
    "\n",
    "    # Create an empty list to store the number of ways to reach each step\n",
    "    dp = []\n",
    "\n",
    "    # Base cases for the first two steps\n",
    "    dp.append(1)\n",
    "    dp.append(2)\n",
    "\n",
    "    # Calculate the number of ways for each step up to n\n",
    "    for i in range(2, n):\n",
    "        dp.append(dp[i - 1] + dp[i - 2])\n",
    "\n",
    "    return dp[-1]\n",
    "\n",
    "# Test the function with an example\n",
    "n = 4\n",
    "print(climbStairs(n))  # Output: 5 (5 distinct ways: 1+1+1+1, 1+1+2, 1+2+1, 2+1+1, 2+2)\n"
   ]
  },
  {
   "cell_type": "code",
   "execution_count": 11,
   "id": "82f6ef10",
   "metadata": {},
   "outputs": [
    {
     "name": "stdout",
     "output_type": "stream",
     "text": [
      " pop pop pop yes\n"
     ]
    }
   ],
   "source": [
    "skibidi=[' pop',' pop',' pop',' yes']\n",
    "print(''.join(skibidi))"
   ]
  },
  {
   "cell_type": "code",
   "execution_count": null,
   "id": "cb2c710a",
   "metadata": {},
   "outputs": [],
   "source": []
  }
 ],
 "metadata": {
  "kernelspec": {
   "display_name": "Python 3 (ipykernel)",
   "language": "python",
   "name": "python3"
  },
  "language_info": {
   "codemirror_mode": {
    "name": "ipython",
    "version": 3
   },
   "file_extension": ".py",
   "mimetype": "text/x-python",
   "name": "python",
   "nbconvert_exporter": "python",
   "pygments_lexer": "ipython3",
   "version": "3.9.7"
  }
 },
 "nbformat": 4,
 "nbformat_minor": 5
}
