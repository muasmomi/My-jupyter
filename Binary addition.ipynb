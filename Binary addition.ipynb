{
 "cells": [
  {
   "cell_type": "code",
   "execution_count": 5,
   "id": "f5416f67",
   "metadata": {},
   "outputs": [
    {
     "data": {
      "text/plain": [
       "'100'"
      ]
     },
     "execution_count": 5,
     "metadata": {},
     "output_type": "execute_result"
    }
   ],
   "source": [
    "class Solution:\n",
    "    \n",
    "    # Function to add two binary numbers represented as strings\n",
    "    def addBinary(self, a, b):\n",
    "        # List to store the result\n",
    "        result = []\n",
    "        # Variable to store the carry-over value\n",
    "        carry = 0\n",
    "        \n",
    "        # Initialize two pointers to traverse the binary strings from right to left\n",
    "        i, j = len(a)-1, len(b)-1\n",
    "        \n",
    "        # Loop until both pointers have reached the beginning of their respective strings and there is no carry-over value left\n",
    "        while i >= 0 or j >= 0 or carry:\n",
    "            total = carry\n",
    "            \n",
    "            # Add the current binary digit in string a, if the pointer is still within bounds\n",
    "            if i >= 0:\n",
    "                total += int(a[i])\n",
    "                i -= 1\n",
    "            \n",
    "            # Add the current binary digit in string b, if the pointer is still within bounds\n",
    "            if j >= 0:\n",
    "                total += int(b[j])\n",
    "                j -= 1\n",
    "            \n",
    "            # Calculate the next binary digit in the result by taking the remainder of the sum divided by 2\n",
    "            result.append(str(total % 2))\n",
    "            \n",
    "            # Calculate the next carry-over value by dividing the sum by 2\n",
    "            carry = total // 2\n",
    "            \n",
    "        # Reverse the result and join the elements to form a single string\n",
    "        return ''.join(reversed(result))\n",
    "sol=Solution()\n",
    "sol.addBinary(\"10\",\"10\")"
   ]
  },
  {
   "cell_type": "code",
   "execution_count": 8,
   "id": "9c01e44c",
   "metadata": {},
   "outputs": [
    {
     "name": "stdout",
     "output_type": "stream",
     "text": [
      "Enter 1st binary: 1\n",
      "Enter 2nd binary: 4\n"
     ]
    },
    {
     "data": {
      "text/plain": [
       "'101'"
      ]
     },
     "execution_count": 8,
     "metadata": {},
     "output_type": "execute_result"
    }
   ],
   "source": [
    "class Solution:\n",
    "    def binaryAdd(self,a,b):\n",
    "        result=[]\n",
    "        carry=0\n",
    "        i,j=len(a)-1,len(b)-1\n",
    "        while i>=0 or j>=0 or carry:\n",
    "            total=carry\n",
    "            if i>=0:\n",
    "                total += int(a[i])\n",
    "                i -= 1\n",
    "            if j>=0:\n",
    "                total += int(b[j])\n",
    "                j -= 1\n",
    "            result.append(str(total%2))\n",
    "            carry=total//2\n",
    "        return ''.join(reversed(result)) #''.join used to converted list to string\n",
    "a=str(input(\"Enter 1st binary: \"))\n",
    "b=str(input(\"Enter 2nd binary: \"))\n",
    "Bi=Solution()\n",
    "Bi.binaryAdd(a,b)\n",
    "\n",
    "                "
   ]
  },
  {
   "cell_type": "code",
   "execution_count": 1,
   "id": "f1a6d4ae",
   "metadata": {},
   "outputs": [
    {
     "data": {
      "text/plain": [
       "[<matplotlib.lines.Line2D at 0x28265f09d90>]"
      ]
     },
     "execution_count": 1,
     "metadata": {},
     "output_type": "execute_result"
    },
    {
     "data": {
      "image/png": "[encoded data removed]",
      "text/plain": [
       "<Figure size 432x288 with 1 Axes>"
      ]
     },
     "metadata": {
      "needs_background": "light"
     },
     "output_type": "display_data"
    }
   ],
   "source": [
    "import matplotlib.pyplot as plt\n",
    "import numpy as np\n",
    "x = np.arange(0, 5, 0.01)\n",
    "y = np.sin(x)\n",
    "plt.plot(x, y)"
   ]
  },
  {
   "cell_type": "code",
   "execution_count": null,
   "id": "b702c766",
   "metadata": {},
   "outputs": [],
   "source": []
  }
 ],
 "metadata": {
  "kernelspec": {
   "display_name": "Python 3 (ipykernel)",
   "language": "python",
   "name": "python3"
  },
  "language_info": {
   "codemirror_mode": {
    "name": "ipython",
    "version": 3
   },
   "file_extension": ".py",
   "mimetype": "text/x-python",
   "name": "python",
   "nbconvert_exporter": "python",
   "pygments_lexer": "ipython3",
   "version": "3.9.7"
  }
 },
 "nbformat": 4,
 "nbformat_minor": 5
}
