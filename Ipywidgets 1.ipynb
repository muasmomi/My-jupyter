{
 "cells": [
  {
   "cell_type": "code",
   "execution_count": 9,
   "id": "751fec03",
   "metadata": {},
   "outputs": [],
   "source": [
    "import ipywidgets as widgets\n",
    "import seaborn as sns\n",
    "from matplotlib import pyplot as plt\n"
   ]
  },
  {
   "cell_type": "markdown",
   "id": "1ded0b2b",
   "metadata": {},
   "source": [
    "# Simple integer slider"
   ]
  },
  {
   "cell_type": "code",
   "execution_count": 10,
   "id": "9a175633",
   "metadata": {},
   "outputs": [
    {
     "data": {
      "application/vnd.jupyter.widget-view+json": {
       "model_id": "4afc147a077c4c7ba1e65697d00ed822",
       "version_major": 2,
       "version_minor": 0
      },
      "text/plain": [
       "IntSlider(value=0)"
      ]
     },
     "metadata": {},
     "output_type": "display_data"
    }
   ],
   "source": [
    "widgets.IntSlider()\n"
   ]
  },
  {
   "cell_type": "code",
   "execution_count": 11,
   "id": "2caed2b8",
   "metadata": {},
   "outputs": [
    {
     "data": {
      "application/vnd.jupyter.widget-view+json": {
       "model_id": "beeed4e90969444d9562d62224881d73",
       "version_major": 2,
       "version_minor": 0
      },
      "text/plain": [
       "IntSlider(value=0)"
      ]
     },
     "metadata": {},
     "output_type": "display_data"
    }
   ],
   "source": [
    "w = widgets.IntSlider()\n",
    "from IPython.display import display\n",
    "display(w)"
   ]
  },
  {
   "cell_type": "markdown",
   "id": "61a0ee4b",
   "metadata": {},
   "source": [
    "# Slider properties"
   ]
  },
  {
   "cell_type": "code",
   "execution_count": 12,
   "id": "7c38f821",
   "metadata": {},
   "outputs": [
    {
     "data": {
      "text/plain": [
       "0"
      ]
     },
     "execution_count": 12,
     "metadata": {},
     "output_type": "execute_result"
    }
   ],
   "source": [
    "w.value"
   ]
  },
  {
   "cell_type": "code",
   "execution_count": 13,
   "id": "aec5dbac",
   "metadata": {},
   "outputs": [
    {
     "data": {
      "text/plain": [
       "['_dom_classes',\n",
       " '_model_module',\n",
       " '_model_module_version',\n",
       " '_model_name',\n",
       " '_view_count',\n",
       " '_view_module',\n",
       " '_view_module_version',\n",
       " '_view_name',\n",
       " 'continuous_update',\n",
       " 'description',\n",
       " 'description_tooltip',\n",
       " 'disabled',\n",
       " 'layout',\n",
       " 'max',\n",
       " 'min',\n",
       " 'orientation',\n",
       " 'readout',\n",
       " 'readout_format',\n",
       " 'step',\n",
       " 'style',\n",
       " 'value']"
      ]
     },
     "execution_count": 13,
     "metadata": {},
     "output_type": "execute_result"
    }
   ],
   "source": [
    "w.keys"
   ]
  },
  {
   "cell_type": "code",
   "execution_count": 14,
   "id": "9b0a4950",
   "metadata": {},
   "outputs": [
    {
     "data": {
      "text/plain": [
       "1"
      ]
     },
     "execution_count": 14,
     "metadata": {},
     "output_type": "execute_result"
    }
   ],
   "source": [
    "w.step"
   ]
  },
  {
   "cell_type": "code",
   "execution_count": 15,
   "id": "f7247cc0",
   "metadata": {},
   "outputs": [
    {
     "data": {
      "application/vnd.jupyter.widget-view+json": {
       "model_id": "6828115237a8442cbe7137d4c49546ce",
       "version_major": 2,
       "version_minor": 0
      },
      "text/plain": [
       "IntSlider(value=0, description='Number', step=2)"
      ]
     },
     "metadata": {},
     "output_type": "display_data"
    }
   ],
   "source": [
    "widgets.IntSlider(step=2,description='Number')"
   ]
  },
  {
   "cell_type": "code",
   "execution_count": 16,
   "id": "77057423",
   "metadata": {},
   "outputs": [
    {
     "data": {
      "application/vnd.jupyter.widget-view+json": {
       "model_id": "8d9f48ffa889471cabcfadd7e119b8f9",
       "version_major": 2,
       "version_minor": 0
      },
      "text/plain": [
       "interactive(children=(FloatSlider(value=1.0, description='bw', max=3.0, min=0.1), Output()), _dom_classes=('wi…"
      ]
     },
     "metadata": {},
     "output_type": "display_data"
    }
   ],
   "source": [
    "cars = sns.load_dataset('mpg')\n",
    "\n",
    "def bandwidth_widget(bw=1):\n",
    "    sns.kdeplot(cars.horsepower, lw=2, fill=True, bw_adjust=bw)\n",
    "    plt.xlim(-30, 300)\n",
    "    plt.ylim(0, 0.03);\n",
    "\n",
    "\n",
    "     \n",
    "\n",
    "widgets.interact(bandwidth_widget, bw=(.1, 3));\n"
   ]
  },
  {
   "cell_type": "markdown",
   "id": "8443a33a",
   "metadata": {},
   "source": [
    "# Widget Example\n",
    "# intereact function syntax"
   ]
  },
  {
   "cell_type": "code",
   "execution_count": 17,
   "id": "7e5337c0",
   "metadata": {},
   "outputs": [
    {
     "data": {
      "application/vnd.jupyter.widget-view+json": {
       "model_id": "790b0ea70e54462fa4a2cff3e6094e9c",
       "version_major": 2,
       "version_minor": 0
      },
      "text/plain": [
       "interactive(children=(FloatSlider(value=1.0, description='bw', max=3.0, min=0.1), Output()), _dom_classes=('wi…"
      ]
     },
     "metadata": {},
     "output_type": "display_data"
    }
   ],
   "source": [
    "import seaborn as sns\n",
    "from matplotlib import pyplot as plt\n",
    "\n",
    "cars = sns.load_dataset('mpg')\n",
    "\n",
    "def bandwidth_widget(bw=1):\n",
    "    sns.kdeplot(cars.horsepower, lw=3, fill=True, bw_adjust=bw)\n",
    "    plt.xlim(-30, 300)\n",
    "    plt.ylim(0, 0.03);\n",
    "\n",
    "\n",
    "     \n",
    "\n",
    "widgets.interact(bandwidth_widget, bw=(.1, 3));\n"
   ]
  },
  {
   "cell_type": "code",
   "execution_count": 18,
   "id": "1771c6d7",
   "metadata": {},
   "outputs": [
    {
     "data": {
      "application/vnd.jupyter.widget-view+json": {
       "model_id": "3359ef4f2fe540af8efde4db166bbf8c",
       "version_major": 2,
       "version_minor": 0
      },
      "text/plain": [
       "interactive(children=(FloatSlider(value=2.0, description='bw', max=3.0, min=0.1), Output()), _dom_classes=('wi…"
      ]
     },
     "metadata": {},
     "output_type": "display_data"
    }
   ],
   "source": [
    "@widgets.interact(bw=(.1, 3, .1))\n",
    "def bw_widget(bw=2):\n",
    "    sns.kdeplot(cars.horsepower, lw=3, fill=True, bw_adjust=bw)\n",
    "    plt.xlim(-30, 300)\n",
    "    plt.ylim(0, 0.03);\n"
   ]
  },
  {
   "cell_type": "markdown",
   "id": "1959b882",
   "metadata": {},
   "source": [
    "# Overlays and Thumbnail\n",
    "# Check Box and Dropdown"
   ]
  },
  {
   "cell_type": "code",
   "execution_count": 19,
   "id": "0244c4b4",
   "metadata": {},
   "outputs": [
    {
     "data": {
      "application/vnd.jupyter.widget-view+json": {
       "model_id": "f0f67a4777b446f78dada3d558a85e18",
       "version_major": 2,
       "version_minor": 0
      },
      "text/plain": [
       "interactive(children=(Checkbox(value=True, description='fill'), Dropdown(description='color', options=('blue',…"
      ]
     },
     "metadata": {},
     "output_type": "display_data"
    }
   ],
   "source": [
    "def kde_widget(fill=True, color='blue'):\n",
    "    sns.kdeplot(cars.horsepower, color=color, lw=3, fill=fill)\n",
    "    plt.xlim(0, 300)\n",
    "    plt.ylim(0, 0.02)\n",
    "\n",
    "\n",
    "     \n",
    "\n",
    "widgets.interact(kde_widget, \n",
    "                 fill=True,\n",
    "                 color=['blue', 'red', 'green', 'orange']\n",
    "                 );\n"
   ]
  },
  {
   "cell_type": "markdown",
   "id": "3a6f8383",
   "metadata": {},
   "source": [
    "# Date Picker"
   ]
  },
  {
   "cell_type": "code",
   "execution_count": 20,
   "id": "5d3c42c4",
   "metadata": {},
   "outputs": [],
   "source": [
    "import datetime\n",
    "from IPython.display import Image\n",
    "\n",
    "\n",
    "     \n",
    "\n",
    "astro_signs = [\n",
    "    ((1, 1), (1, 19), 'Capricorn'),\n",
    "    ((1, 20), (2, 18), 'Aquarius'),\n",
    "    ((2, 19), (3, 20), 'Pisces'),\n",
    "    ((3, 21), (4, 19), 'Aries'),\n",
    "    ((4, 20), (5, 20), 'Taurus'),\n",
    "    ((5, 21), (6, 20), 'Gemini'),\n",
    "    ((6, 21), (7, 22), 'Cancer'),\n",
    "    ((7, 23), (8, 22), 'Leo'),\n",
    "    ((8, 23), (9, 22), 'Virgo'),\n",
    "    ((9, 23), (10, 22), 'Libra'),\n",
    "    ((10, 23), (11, 21), 'Scorpio'),\n",
    "    ((11, 22), (12, 21), 'Sagittarius'),\n",
    "    ((12, 22), (12, 31), 'Capricorn')\n",
    "]\n"
   ]
  },
  {
   "cell_type": "code",
   "execution_count": 21,
   "id": "26c5b72d",
   "metadata": {},
   "outputs": [
    {
     "data": {
      "application/vnd.jupyter.widget-view+json": {
       "model_id": "ee119f56fb7040b1a8b1f222eeb0d9e6",
       "version_major": 2,
       "version_minor": 0
      },
      "text/plain": [
       "interactive(children=(DatePicker(value=datetime.date(1980, 1, 1), description='Date of Birth: '), Output()), _…"
      ]
     },
     "metadata": {},
     "output_type": "display_data"
    }
   ],
   "source": [
    "def find_sign(date=datetime.date(1980, 1, 1)):\n",
    "    year = date.year\n",
    "    for sign in astro_signs:\n",
    "        start_month, start_day = sign[0][0], sign[0][1]\n",
    "        end_month, end_day = sign[1][0], sign[1][1]\n",
    "        if (datetime.date(year, start_month, start_day) <= \n",
    "            date <= \n",
    "            datetime.date(year, end_month, end_day)):\n",
    "            astro = sign[-1]\n",
    "            if astro[0] == 'A': \n",
    "                article = 'an'\n",
    "            else:\n",
    "                article = 'a'\n",
    "            print(f\"You're {article} {astro}!\")\n",
    "            display(Image(filename=f'images/{astro}.png'))\n",
    "\n",
    "\n",
    "     \n",
    "\n",
    "w = widgets.DatePicker(\n",
    "    description='Date of Birth: ',\n",
    "    value=datetime.date(1980, 1, 1)\n",
    "    )\n",
    "\n",
    "\n",
    "     \n",
    "\n",
    "widgets.interact(find_sign, date=w);\n"
   ]
  },
  {
   "cell_type": "markdown",
   "id": "9d25e8f5",
   "metadata": {},
   "source": [
    "# Animation"
   ]
  },
  {
   "cell_type": "code",
   "execution_count": 22,
   "id": "017a0a0c",
   "metadata": {},
   "outputs": [
    {
     "data": {
      "application/vnd.jupyter.widget-view+json": {
       "model_id": "40ec2fa24d4f4937810acba7d2e6d3bf",
       "version_major": 2,
       "version_minor": 0
      },
      "text/plain": [
       "interactive(children=(Play(value=1, description='bw', max=20, min=1), Output()), _dom_classes=('widget-interac…"
      ]
     },
     "metadata": {},
     "output_type": "display_data"
    }
   ],
   "source": [
    "def bandwidth_widget_scaled(bw=1):\n",
    "    sns.kdeplot(cars.horsepower, bw_adjust=bw*.1, lw=3, fill=True)\n",
    "    plt.xlim(-30, 300)\n",
    "    plt.ylim(0, .03)\n",
    "\n",
    "\n",
    "     \n",
    "\n",
    "widgets.interact(bandwidth_widget_scaled, bw=widgets.Play(min=1, max=20));\n"
   ]
  },
  {
   "cell_type": "code",
   "execution_count": null,
   "id": "48b7859f",
   "metadata": {},
   "outputs": [],
   "source": []
  }
 ],
 "metadata": {
  "kernelspec": {
   "display_name": "Python 3 (ipykernel)",
   "language": "python",
   "name": "python3"
  },
  "language_info": {
   "codemirror_mode": {
    "name": "ipython",
    "version": 3
   },
   "file_extension": ".py",
   "mimetype": "text/x-python",
   "name": "python",
   "nbconvert_exporter": "python",
   "pygments_lexer": "ipython3",
   "version": "3.9.7"
  }
 },
 "nbformat": 4,
 "nbformat_minor": 5
}
