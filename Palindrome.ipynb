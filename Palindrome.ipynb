{
 "cells": [
  {
   "cell_type": "code",
   "execution_count": 11,
   "id": "809f6115",
   "metadata": {},
   "outputs": [
    {
     "name": "stdout",
     "output_type": "stream",
     "text": [
      "True\n"
     ]
    }
   ],
   "source": [
    "#By using string\n",
    "def x_is_palindrome(x):\n",
    "    x_str= str(x) #convert to string bcuz command [::-1] only works on string\n",
    "    return x_str == x_str[::-1] # return function already give true/false result when we use bolean input/operators\n",
    "x=121\n",
    "result=x_is_palindrome(x) \n",
    "print(result)"
   ]
  },
  {
   "cell_type": "code",
   "execution_count": 2,
   "id": "7b01b3e9",
   "metadata": {},
   "outputs": [
    {
     "name": "stdout",
     "output_type": "stream",
     "text": [
      "Enter number: 1221\n"
     ]
    },
    {
     "data": {
      "text/plain": [
       "True"
      ]
     },
     "execution_count": 2,
     "metadata": {},
     "output_type": "execute_result"
    }
   ],
   "source": [
    "#Without converting to string\n",
    "def xispalindrome(x):\n",
    "    if x<0 or (x!=0 and x%10==0):# if the number has -sign or 10\n",
    "        return False\n",
    "    half=0\n",
    "    while x>half:\n",
    "        half=(half*10) + (x%10)\n",
    "        x=x//10\n",
    "    return x == half or x == half//10\n",
    "x=int(input(\"Enter number: \"))\n",
    "xispalindrome(x)"
   ]
  },
  {
   "cell_type": "code",
   "execution_count": null,
   "id": "6dfaa213",
   "metadata": {},
   "outputs": [],
   "source": []
  },
  {
   "cell_type": "code",
   "execution_count": null,
   "id": "023c439e",
   "metadata": {},
   "outputs": [],
   "source": []
  }
 ],
 "metadata": {
  "kernelspec": {
   "display_name": "Python 3 (ipykernel)",
   "language": "python",
   "name": "python3"
  },
  "language_info": {
   "codemirror_mode": {
    "name": "ipython",
    "version": 3
   },
   "file_extension": ".py",
   "mimetype": "text/x-python",
   "name": "python",
   "nbconvert_exporter": "python",
   "pygments_lexer": "ipython3",
   "version": "3.9.7"
  }
 },
 "nbformat": 4,
 "nbformat_minor": 5
}
