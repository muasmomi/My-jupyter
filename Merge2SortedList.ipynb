{
 "cells": [
  {
   "cell_type": "code",
   "execution_count": 14,
   "id": "cec62e7f",
   "metadata": {},
   "outputs": [
    {
     "name": "stdout",
     "output_type": "stream",
     "text": [
      "[1, 1, 2, 3, 4, 5]\n"
     ]
    }
   ],
   "source": [
    "class ListNode:\n",
    "    def __init__(self, value=0, next=None):\n",
    "        self.val = value\n",
    "        self.next = next\n",
    "\n",
    "class Solution(object):\n",
    "    def mergeTwoLists(self, list1, list2):\n",
    "        head = ListNode()\n",
    "        current = head\n",
    "        while list1 and list2:\n",
    "            if list1.val < list2.val:\n",
    "                current.next = list1\n",
    "                list1 = list1.next\n",
    "            else:\n",
    "                current.next = list2\n",
    "                list2 = list2.next\n",
    "            current = current.next\n",
    "\n",
    "        current.next = list1 or list2\n",
    "        return head.next\n",
    "\n",
    "# Create linked list 1: 1 -> 2 -> 4\n",
    "node1 = ListNode(1)\n",
    "node2 = ListNode(2)\n",
    "node3 = ListNode(4)\n",
    "node1.next = node2\n",
    "node2.next = node3\n",
    "\n",
    "# Create linked list 2: 1 -> 3 -> 5\n",
    "node4 = ListNode(1)\n",
    "node5 = ListNode(3)\n",
    "node6 = ListNode(5)\n",
    "node4.next = node5\n",
    "node5.next = node6\n",
    "\n",
    "# Create an instance of the Solution class\n",
    "solution = Solution()\n",
    "\n",
    "# Call the mergeTwoLists method on the solution object\n",
    "result = solution.mergeTwoLists(node1, node4)\n",
    "\n",
    "# Helper function to convert the result back to a list for display\n",
    "def linked_list_to_list(head):\n",
    "    result_list = []\n",
    "    current = head\n",
    "    while current:\n",
    "        result_list.append(current.val)\n",
    "        current = current.next\n",
    "    return result_list\n",
    "\n",
    "print(linked_list_to_list(result))  # Output: [1, 1, 2, 3, 4, 5]\n"
   ]
  },
  {
   "cell_type": "code",
   "execution_count": null,
   "id": "52befa8c",
   "metadata": {},
   "outputs": [],
   "source": []
  }
 ],
 "metadata": {
  "kernelspec": {
   "display_name": "Python 3 (ipykernel)",
   "language": "python",
   "name": "python3"
  },
  "language_info": {
   "codemirror_mode": {
    "name": "ipython",
    "version": 3
   },
   "file_extension": ".py",
   "mimetype": "text/x-python",
   "name": "python",
   "nbconvert_exporter": "python",
   "pygments_lexer": "ipython3",
   "version": "3.9.7"
  }
 },
 "nbformat": 4,
 "nbformat_minor": 5
}
