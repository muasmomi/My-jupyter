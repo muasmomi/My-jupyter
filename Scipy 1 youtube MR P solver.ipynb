{
 "cells": [
  {
   "cell_type": "code",
   "execution_count": 2,
   "id": "a76b6baf",
   "metadata": {},
   "outputs": [],
   "source": [
    "import numpy as np\n",
    "import matplotlib.pyplot as plt\n",
    "import scipy as sp\n"
   ]
  },
  {
   "cell_type": "markdown",
   "id": "e2074cb9",
   "metadata": {},
   "source": [
    "# Basic "
   ]
  },
  {
   "cell_type": "code",
   "execution_count": 3,
   "id": "c3597acd",
   "metadata": {},
   "outputs": [],
   "source": [
    "from scipy.optimize import minimize"
   ]
  },
  {
   "cell_type": "markdown",
   "id": "34c8068a",
   "metadata": {},
   "source": [
    "minimize f(x) = (x-3)^2"
   ]
  },
  {
   "cell_type": "code",
   "execution_count": 4,
   "id": "bd47e47e",
   "metadata": {},
   "outputs": [],
   "source": [
    "def f(x):\n",
    "    return (x-3)**2\n",
    "res = minimize(f,2)"
   ]
  },
  {
   "cell_type": "code",
   "execution_count": 5,
   "id": "7dc44e15",
   "metadata": {},
   "outputs": [
    {
     "data": {
      "text/plain": [
       "      fun: 5.551437397369767e-17\n",
       " hess_inv: array([[0.5]])\n",
       "      jac: array([-4.3254289e-13])\n",
       "  message: 'Optimization terminated successfully.'\n",
       "     nfev: 6\n",
       "      nit: 2\n",
       "     njev: 3\n",
       "   status: 0\n",
       "  success: True\n",
       "        x: array([2.99999999])"
      ]
     },
     "execution_count": 5,
     "metadata": {},
     "output_type": "execute_result"
    }
   ],
   "source": [
    "res"
   ]
  },
  {
   "cell_type": "markdown",
   "id": "3498b984",
   "metadata": {},
   "source": [
    "# interpolation"
   ]
  },
  {
   "cell_type": "code",
   "execution_count": 6,
   "id": "b3b358c7",
   "metadata": {},
   "outputs": [
    {
     "data": {
      "text/plain": [
       "<matplotlib.collections.PathCollection at 0x210d29a3d00>"
      ]
     },
     "execution_count": 6,
     "metadata": {},
     "output_type": "execute_result"
    },
    {
     "data": {
      "image/png": "[encoded data removed]",
      "text/plain": [
       "<Figure size 432x288 with 1 Axes>"
      ]
     },
     "metadata": {
      "needs_background": "light"
     },
     "output_type": "display_data"
    }
   ],
   "source": [
    "x= np.linspace(0,10,10)\n",
    "y =x**2*np.sin(x)\n",
    "plt.scatter(x,y)\n",
    "\n"
   ]
  },
  {
   "cell_type": "code",
   "execution_count": 7,
   "id": "bdd5b386",
   "metadata": {
    "scrolled": true
   },
   "outputs": [
    {
     "data": {
      "text/plain": [
       "[<matplotlib.lines.Line2D at 0x210d3219640>]"
      ]
     },
     "execution_count": 7,
     "metadata": {},
     "output_type": "execute_result"
    },
    {
     "data": {
      "image/png": "[encoded data removed]",
      "text/plain": [
       "<Figure size 432x288 with 1 Axes>"
      ]
     },
     "metadata": {
      "needs_background": "light"
     },
     "output_type": "display_data"
    }
   ],
   "source": [
    "from scipy.interpolate import interp1d\n",
    "f= interp1d(x,y,kind='cubic')\n",
    "x_dense= np.linspace(0,10,100)\n",
    "y_dense= f(x_dense)\n",
    "plt.plot(x_dense,y_dense)\n",
    "\n"
   ]
  },
  {
   "cell_type": "markdown",
   "id": "f8044896",
   "metadata": {},
   "source": [
    "# curve fitting"
   ]
  },
  {
   "cell_type": "code",
   "execution_count": 8,
   "id": "964b663c",
   "metadata": {},
   "outputs": [],
   "source": [
    "x_data = np.linspace(0,10,10)\n",
    "y_data = 3*x_data**2+ 2"
   ]
  },
  {
   "cell_type": "code",
   "execution_count": 9,
   "id": "fad183e0",
   "metadata": {},
   "outputs": [
    {
     "data": {
      "text/plain": [
       "<matplotlib.collections.PathCollection at 0x210d3286c10>"
      ]
     },
     "execution_count": 9,
     "metadata": {},
     "output_type": "execute_result"
    },
    {
     "data": {
      "image/png": "[encoded data removed]",
      "text/plain": [
       "<Figure size 432x288 with 1 Axes>"
      ]
     },
     "metadata": {
      "needs_background": "light"
     },
     "output_type": "display_data"
    }
   ],
   "source": [
    "plt.scatter(x_data,y_data)"
   ]
  },
  {
   "cell_type": "code",
   "execution_count": 10,
   "id": "2fc31ee4",
   "metadata": {},
   "outputs": [
    {
     "data": {
      "text/plain": [
       "array([3., 2.])"
      ]
     },
     "execution_count": 10,
     "metadata": {},
     "output_type": "execute_result"
    }
   ],
   "source": [
    "from scipy.optimize import curve_fit\n",
    "def func(x,a,b):\n",
    "    return a*x**2+b\n",
    "popt, pcov = curve_fit(func, x_data, y_data, p0=(1,1))\n",
    "popt"
   ]
  },
  {
   "cell_type": "markdown",
   "id": "9301d124",
   "metadata": {},
   "source": [
    "# Diffrentation"
   ]
  },
  {
   "cell_type": "code",
   "execution_count": 11,
   "id": "4f87e35a",
   "metadata": {},
   "outputs": [],
   "source": [
    "from scipy.misc import derivative\n",
    "def f(x):\n",
    "    return x**2 * np.sin(2*x) *np.exp(-x)\n",
    "x= np.linspace(0,1,100)"
   ]
  },
  {
   "cell_type": "code",
   "execution_count": 19,
   "id": "73215f79",
   "metadata": {},
   "outputs": [
    {
     "data": {
      "text/plain": [
       "[<matplotlib.lines.Line2D at 0x210d4a29e20>]"
      ]
     },
     "execution_count": 19,
     "metadata": {},
     "output_type": "execute_result"
    },
    {
     "data": {
      "image/png": "[encoded data removed]",
      "text/plain": [
       "<Figure size 432x288 with 1 Axes>"
      ]
     },
     "metadata": {
      "needs_background": "light"
     },
     "output_type": "display_data"
    }
   ],
   "source": [
    "plt.plot(x, f(x))\n",
    "#derivative(f,x, dx=1e-6) drevetives of f to x in each 1x10^-6\n",
    "plt.plot(x, derivative(f,x, dx=1e-6)) #1st derevatives graph\n",
    "plt.plot(x, derivative(f,x, dx=1e-6,n=2)) #2nd derevatives\n",
    "#plt.plot(x, derivative(f,x, dx=1e-6,n=3)) #3rd derevatives\n"
   ]
  },
  {
   "cell_type": "markdown",
   "id": "84545917",
   "metadata": {},
   "source": [
    "# intergration"
   ]
  },
  {
   "cell_type": "code",
   "execution_count": 28,
   "id": "1e084665",
   "metadata": {},
   "outputs": [],
   "source": [
    "from scipy.integrate import quad #quad is function\n",
    "integrand = lambda x: x** np.sin(x)* np.exp(-x) #def function\n",
    "integral, integral_error = quad(integrand,0,1) #0 and 1 are bound "
   ]
  },
  {
   "cell_type": "code",
   "execution_count": 31,
   "id": "c656dd09",
   "metadata": {},
   "outputs": [
    {
     "data": {
      "text/plain": [
       "3.263128656172398e-11"
      ]
     },
     "execution_count": 31,
     "metadata": {},
     "output_type": "execute_result"
    }
   ],
   "source": [
    "integral_error"
   ]
  },
  {
   "cell_type": "markdown",
   "id": "e0801ec6",
   "metadata": {},
   "source": [
    "double integral"
   ]
  },
  {
   "cell_type": "code",
   "execution_count": 36,
   "id": "a0cec099",
   "metadata": {},
   "outputs": [],
   "source": [
    "from scipy.integrate import dblquad  #dblquad is double integral function\n",
    "integrand1= lambda x,y: np.sin(x+y**2)\n",
    "lwr_y= lambda x: -x   #creating bound for y intergral\n",
    "upr_y= lambda x: x**2\n",
    "integral, integral_error = dblquad(integrand1,0,1,lwr_y,upr_y)"
   ]
  },
  {
   "cell_type": "code",
   "execution_count": 37,
   "id": "237c69e0",
   "metadata": {},
   "outputs": [
    {
     "data": {
      "text/plain": [
       "0.315802507240474"
      ]
     },
     "execution_count": 37,
     "metadata": {},
     "output_type": "execute_result"
    }
   ],
   "source": [
    "integral"
   ]
  },
  {
   "cell_type": "code",
   "execution_count": 38,
   "id": "3e56466f",
   "metadata": {},
   "outputs": [
    {
     "data": {
      "text/plain": [
       "1.5634600713498928e-14"
      ]
     },
     "execution_count": 38,
     "metadata": {},
     "output_type": "execute_result"
    }
   ],
   "source": [
    "integral_error"
   ]
  },
  {
   "cell_type": "markdown",
   "id": "0593613f",
   "metadata": {},
   "source": [
    "# Differtial Equations"
   ]
  },
  {
   "cell_type": "code",
   "execution_count": 41,
   "id": "3090c9ad",
   "metadata": {},
   "outputs": [],
   "source": [
    "from scipy.integrate import odeint"
   ]
  },
  {
   "cell_type": "markdown",
   "id": "7feb365f",
   "metadata": {},
   "source": [
    "all information about differential equation"
   ]
  },
  {
   "cell_type": "code",
   "execution_count": 43,
   "id": "e612487d",
   "metadata": {},
   "outputs": [],
   "source": [
    "def dvdt(v,t):\n",
    "    return 3*v**2-5\n",
    "v0= 0"
   ]
  },
  {
   "cell_type": "code",
   "execution_count": 48,
   "id": "9e94f0d3",
   "metadata": {
    "scrolled": true
   },
   "outputs": [
    {
     "data": {
      "text/plain": [
       "[<matplotlib.lines.Line2D at 0x29886ad5520>]"
      ]
     },
     "execution_count": 48,
     "metadata": {},
     "output_type": "execute_result"
    },
    {
     "data": {
      "image/png": "[encoded data removed]",
      "text/plain": [
       "<Figure size 432x288 with 1 Axes>"
      ]
     },
     "metadata": {
      "needs_background": "light"
     },
     "output_type": "display_data"
    }
   ],
   "source": [
    "t= np.linspace(0,1,100)\n",
    "sol= odeint(dvdt, v0, t)\n",
    "sol.T[0]\n",
    "plt.plot(t, sol.T[0])  #kena buat T[0] utuk buat array(utk graph)"
   ]
  },
  {
   "cell_type": "markdown",
   "id": "9d428eb4",
   "metadata": {},
   "source": [
    "coupled first order ODEs"
   ]
  },
  {
   "cell_type": "code",
   "execution_count": 50,
   "id": "04b79da5",
   "metadata": {},
   "outputs": [
    {
     "data": {
      "text/plain": [
       "[<matplotlib.lines.Line2D at 0x29886b41c10>]"
      ]
     },
     "execution_count": 50,
     "metadata": {},
     "output_type": "execute_result"
    },
    {
     "data": {
      "image/png": "[encoded data removed]",
      "text/plain": [
       "<Figure size 432x288 with 1 Axes>"
      ]
     },
     "metadata": {
      "needs_background": "light"
     },
     "output_type": "display_data"
    }
   ],
   "source": [
    "def dSdx(S,x):\n",
    "    y1, y2= S\n",
    "    return [y1+y2**2+3*x,\n",
    "            3*y1+y2**3-np.cos(x)]\n",
    "y1_0=0\n",
    "y2_0=0\n",
    "S_0= (y1_0,y2_0)\n",
    "\n",
    "x= np.linspace(0,1,100)\n",
    "sol= odeint(dSdx,S_0,x) # differntial, initial value of S and x\n",
    "\n",
    "y1=sol.T[0]\n",
    "y2=sol.T[1]\n",
    "plt.plot(x,y1)\n",
    "plt.plot(x,y2)\n",
    "\n",
    "            "
   ]
  },
  {
   "cell_type": "markdown",
   "id": "5a6159e6",
   "metadata": {},
   "source": [
    "# second order differential equation"
   ]
  },
  {
   "cell_type": "markdown",
   "id": "754c036f",
   "metadata": {},
   "source": [
    "any second order ODE can be turned to two coupled first order ODEs\n"
   ]
  },
  {
   "cell_type": "code",
   "execution_count": 51,
   "id": "7b6ab46e",
   "metadata": {},
   "outputs": [],
   "source": [
    "def dSdt(S,t):\n",
    "    theta, omega= S\n",
    "    return [omega, np.sin(theta)]\n",
    "theta0= np.pi/4\n",
    "omega0= 0\n",
    "S0= (theta0, omega0)"
   ]
  },
  {
   "cell_type": "code",
   "execution_count": 52,
   "id": "a875270e",
   "metadata": {},
   "outputs": [],
   "source": [
    "t= np.linspace(0,20,100)\n",
    "sol= odeint(dSdt,S0,t)\n",
    "theta,omega= sol.T"
   ]
  },
  {
   "cell_type": "code",
   "execution_count": 60,
   "id": "e7f47092",
   "metadata": {},
   "outputs": [
    {
     "data": {
      "text/plain": [
       "[<matplotlib.lines.Line2D at 0x29886ddea30>]"
      ]
     },
     "execution_count": 60,
     "metadata": {},
     "output_type": "execute_result"
    },
    {
     "data": {
      "image/png": "[encoded data removed]",
      "text/plain": [
       "<Figure size 432x288 with 1 Axes>"
      ]
     },
     "metadata": {
      "needs_background": "light"
     },
     "output_type": "display_data"
    }
   ],
   "source": [
    "plt.plot(t,omega)\n",
    "plt.plot(t,theta)"
   ]
  },
  {
   "cell_type": "code",
   "execution_count": null,
   "id": "eebfe89a",
   "metadata": {},
   "outputs": [],
   "source": []
  }
 ],
 "metadata": {
  "kernelspec": {
   "display_name": "Python 3 (ipykernel)",
   "language": "python",
   "name": "python3"
  },
  "language_info": {
   "codemirror_mode": {
    "name": "ipython",
    "version": 3
   },
   "file_extension": ".py",
   "mimetype": "text/x-python",
   "name": "python",
   "nbconvert_exporter": "python",
   "pygments_lexer": "ipython3",
   "version": "3.9.7"
  }
 },
 "nbformat": 4,
 "nbformat_minor": 5
}
