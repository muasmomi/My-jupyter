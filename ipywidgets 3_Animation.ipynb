{
 "cells": [
  {
   "cell_type": "code",
   "execution_count": 5,
   "id": "851122c6",
   "metadata": {},
   "outputs": [],
   "source": [
    "import ipywidgets as widgets\n",
    "from matplotlib import pyplot as plt\n",
    "import numpy as np"
   ]
  },
  {
   "cell_type": "code",
   "execution_count": 6,
   "id": "984d7ed5",
   "metadata": {},
   "outputs": [],
   "source": [
    "x= np.linspace(0, 2*np.pi,1000) # x value from 0 -2pi"
   ]
  },
  {
   "cell_type": "markdown",
   "id": "1a878395",
   "metadata": {},
   "source": [
    "# Basic animation"
   ]
  },
  {
   "cell_type": "code",
   "execution_count": 9,
   "id": "fd54f7d5",
   "metadata": {},
   "outputs": [
    {
     "data": {
      "application/vnd.jupyter.widget-view+json": {
       "model_id": "9e1b68cdc9ff479db10f21ade60078cd",
       "version_major": 2,
       "version_minor": 0
      },
      "text/plain": [
       "interactive(children=(IntSlider(value=0, description='t', max=20), Output()), _dom_classes=('widget-interact',…"
      ]
     },
     "metadata": {},
     "output_type": "display_data"
    }
   ],
   "source": [
    "def sin_wave(t=0):\n",
    "    y= np.sin(x+0.1*t) #0.1 is to make the graph move more slower\n",
    "    plt.plot(x,y)\n",
    "    plt.xlim(0, 2*np.pi)\n",
    "    plt.ylim(-1.2,1.2)\n",
    "\n",
    "widgets.interact(sin_wave, t=(0,20,1));\n",
    "    \n",
    "\n"
   ]
  },
  {
   "cell_type": "code",
   "execution_count": 10,
   "id": "34d718f3",
   "metadata": {},
   "outputs": [
    {
     "data": {
      "application/vnd.jupyter.widget-view+json": {
       "model_id": "63e281a95f6242b3b8ad2727f151a219",
       "version_major": 2,
       "version_minor": 0
      },
      "text/plain": [
       "interactive(children=(Play(value=0, description='t', max=20), Output()), _dom_classes=('widget-interact',))"
      ]
     },
     "metadata": {},
     "output_type": "display_data"
    }
   ],
   "source": [
    "widgets.interact(sin_wave, t=widgets.Play(min=0, max=20)); \n",
    "# video play"
   ]
  },
  {
   "cell_type": "markdown",
   "id": "4e19941a",
   "metadata": {},
   "source": [
    "# Additional properties: with frequency "
   ]
  },
  {
   "cell_type": "code",
   "execution_count": 11,
   "id": "399fe84f",
   "metadata": {},
   "outputs": [],
   "source": [
    "def sin_wave_with_freq(t=0, f=1): #f=frequency\n",
    "    y= np.sin(f*(x+0.1*t)) #0.1 is to make the graph move more slower\n",
    "    plt.plot(x,y)\n",
    "    plt.xlim(0, 2*np.pi)\n",
    "    plt.ylim(-1.2,1.2)"
   ]
  },
  {
   "cell_type": "code",
   "execution_count": 15,
   "id": "c08047ef",
   "metadata": {},
   "outputs": [
    {
     "data": {
      "application/vnd.jupyter.widget-view+json": {
       "model_id": "70798bc371214a43b6fa21f0e327645d",
       "version_major": 2,
       "version_minor": 0
      },
      "text/plain": [
       "interactive(children=(Play(value=0, description='t', max=20), FloatSlider(value=1.0, description='f', max=10.0…"
      ]
     },
     "metadata": {},
     "output_type": "display_data"
    }
   ],
   "source": [
    "widgets.interact(sin_wave_with_freq, t=widgets.Play(min=0, max=20), f=(1,10,0.5));"
   ]
  },
  {
   "cell_type": "code",
   "execution_count": null,
   "id": "c8aa6e8e",
   "metadata": {},
   "outputs": [],
   "source": []
  }
 ],
 "metadata": {
  "kernelspec": {
   "display_name": "Python 3 (ipykernel)",
   "language": "python",
   "name": "python3"
  },
  "language_info": {
   "codemirror_mode": {
    "name": "ipython",
    "version": 3
   },
   "file_extension": ".py",
   "mimetype": "text/x-python",
   "name": "python",
   "nbconvert_exporter": "python",
   "pygments_lexer": "ipython3",
   "version": "3.9.7"
  }
 },
 "nbformat": 4,
 "nbformat_minor": 5
}
