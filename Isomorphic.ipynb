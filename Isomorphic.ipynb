{
 "cells": [
  {
   "cell_type": "code",
   "execution_count": 15,
   "id": "6463599b",
   "metadata": {},
   "outputs": [
    {
     "name": "stdout",
     "output_type": "stream",
     "text": [
      "0\n",
      "1\n",
      "2\n",
      "2\n",
      "4\n",
      "2\n"
     ]
    }
   ],
   "source": [
    "a=\"Hellol\"\n",
    "for char in a:\n",
    "    print(a.index(char))"
   ]
  },
  {
   "cell_type": "code",
   "execution_count": 11,
   "id": "27f542f8",
   "metadata": {},
   "outputs": [
    {
     "name": "stdout",
     "output_type": "stream",
     "text": [
      "0\n",
      "1\n",
      "2\n",
      "3\n",
      "4\n",
      "5\n"
     ]
    }
   ],
   "source": [
    "a = \"Hellol\"\n",
    "for index, char in enumerate(a):\n",
    "    print(index)\n"
   ]
  },
  {
   "cell_type": "code",
   "execution_count": 21,
   "id": "d330781f",
   "metadata": {},
   "outputs": [
    {
     "data": {
      "text/plain": [
       "False"
      ]
     },
     "execution_count": 21,
     "metadata": {},
     "output_type": "execute_result"
    }
   ],
   "source": [
    "#Isomorphic METHOD 1\n",
    "def isomorphic(s,t):\n",
    "    map1=[]\n",
    "    map2=[]\n",
    "    for char in s:\n",
    "        map1.append(s.index(char))\n",
    "    for char in t:\n",
    "        map2.append(t.index(char))\n",
    "    if map1==map2:\n",
    "        return True\n",
    "    return False\n",
    "isomorphic('egg','cat')"
   ]
  },
  {
   "cell_type": "code",
   "execution_count": 27,
   "id": "b1eb1f48",
   "metadata": {},
   "outputs": [
    {
     "data": {
      "text/plain": [
       "True"
      ]
     },
     "execution_count": 27,
     "metadata": {},
     "output_type": "execute_result"
    }
   ],
   "source": [
    "#Isomorphic METHOD 2\n",
    "def isIsomorphic(s: str, t: str):\n",
    "    return [*map(s.index, s)] == [*map(t.index, t)]\n",
    "isIsomorphic('egg','boo')"
   ]
  },
  {
   "cell_type": "code",
   "execution_count": 31,
   "id": "83eaa3d0",
   "metadata": {},
   "outputs": [
    {
     "name": "stdout",
     "output_type": "stream",
     "text": [
      "[0, 1, 2, 1, 4]\n"
     ]
    }
   ],
   "source": [
    "s = [1, 2, 3, 2, 4]\n",
    "result = [*map(s.index, s)]\n",
    "print(result)"
   ]
  },
  {
   "cell_type": "code",
   "execution_count": null,
   "id": "6abe43e6",
   "metadata": {},
   "outputs": [],
   "source": []
  }
 ],
 "metadata": {
  "kernelspec": {
   "display_name": "Python 3 (ipykernel)",
   "language": "python",
   "name": "python3"
  },
  "language_info": {
   "codemirror_mode": {
    "name": "ipython",
    "version": 3
   },
   "file_extension": ".py",
   "mimetype": "text/x-python",
   "name": "python",
   "nbconvert_exporter": "python",
   "pygments_lexer": "ipython3",
   "version": "3.9.7"
  }
 },
 "nbformat": 4,
 "nbformat_minor": 5
}
