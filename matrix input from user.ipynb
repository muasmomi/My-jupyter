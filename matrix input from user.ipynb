{
 "cells": [
  {
   "cell_type": "code",
   "execution_count": 1,
   "id": "5f65ca3b",
   "metadata": {},
   "outputs": [
    {
     "name": "stdout",
     "output_type": "stream",
     "text": [
      "enter rows: 2\n",
      "enter columns: 2\n",
      "enter value: 1\n",
      "enter value: 1\n",
      "enter value: 1\n",
      "enter value: 1\n",
      "[[1.0, 1.0]]\n"
     ]
    }
   ],
   "source": [
    "r=int(input('enter rows: '))\n",
    "c=int(input('enter columns: '))                  #wrong one\n",
    "for i in range(r):\n",
    "    m=[]\n",
    "    l=[]\n",
    "    for j in range(c):\n",
    "        v= float(input('enter value: '))\n",
    "        l.append(v)\n",
    "    m.append(l)\n",
    "print(m)"
   ]
  },
  {
   "cell_type": "code",
   "execution_count": 3,
   "id": "e54bf633",
   "metadata": {},
   "outputs": [
    {
     "name": "stdout",
     "output_type": "stream",
     "text": [
      "enter rows: 2\n",
      "enter columns: 2\n",
      "enter value: 1\n",
      "enter value: 2\n",
      "enter value: 3\n",
      "enter value: 4\n",
      "[[1.0, 2.0], [3.0, 4.0]]\n"
     ]
    }
   ],
   "source": [
    "r=int(input('enter rows: ')) \n",
    "c=int(input('enter columns: '))                   #right one\n",
    "m=[]\n",
    "for i in range(r):                                # m=[] perlu diletak sebelum for i in range\n",
    "    l=[]                                          # l=[] pelu diletak dalam loop pertama sahaja\n",
    "    for j in range(c):\n",
    "        v= float(input('enter value: '))\n",
    "        l.append(v)\n",
    "    m.append(l)\n",
    "print(m)"
   ]
  },
  {
   "cell_type": "code",
   "execution_count": 5,
   "id": "95c90173",
   "metadata": {},
   "outputs": [
    {
     "name": "stdout",
     "output_type": "stream",
     "text": [
      "enter rows: 2\n",
      "enter columns: 2\n",
      "enter value: 1\n",
      "enter value: 2\n",
      "enter value: 3\n",
      "enter value: 4\n",
      "[3.0, 4.0]\n"
     ]
    }
   ],
   "source": [
    "r=int(input('enter rows: '))\n",
    "c=int(input('enter columns: '))\n",
    "m=[]                                                  #wrong one\n",
    "for i in range(r):\n",
    "    l=[]\n",
    "    for j in range(c):\n",
    "        v= float(input('enter value: '))\n",
    "        l.append(v)\n",
    "    m.append(l)\n",
    "print(l)"
   ]
  },
  {
   "cell_type": "code",
   "execution_count": null,
   "id": "385188de",
   "metadata": {},
   "outputs": [],
   "source": []
  }
 ],
 "metadata": {
  "kernelspec": {
   "display_name": "Python 3 (ipykernel)",
   "language": "python",
   "name": "python3"
  },
  "language_info": {
   "codemirror_mode": {
    "name": "ipython",
    "version": 3
   },
   "file_extension": ".py",
   "mimetype": "text/x-python",
   "name": "python",
   "nbconvert_exporter": "python",
   "pygments_lexer": "ipython3",
   "version": "3.9.7"
  }
 },
 "nbformat": 4,
 "nbformat_minor": 5
}
