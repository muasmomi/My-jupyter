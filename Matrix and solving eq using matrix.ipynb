{
 "cells": [
  {
   "cell_type": "code",
   "execution_count": 6,
   "id": "b1d9a338",
   "metadata": {},
   "outputs": [
    {
     "name": "stdout",
     "output_type": "stream",
     "text": [
      "[36. 48. 60.]\n"
     ]
    }
   ],
   "source": [
    "#solving equation using matices\n",
    "\n",
    "import numpy as np\n",
    "A=np.array([[2,1,1],[1,3,2],[2,1,2]])\n",
    "B=np.array([180,300,240])\n",
    "xyz=np.linalg.solve(A,B)\n",
    "print(xyz)\n",
    "\n"
   ]
  },
  {
   "cell_type": "code",
   "execution_count": 7,
   "id": "a31be03f",
   "metadata": {},
   "outputs": [
    {
     "data": {
      "text/plain": [
       "array([4., 3.])"
      ]
     },
     "execution_count": 7,
     "metadata": {},
     "output_type": "execute_result"
    }
   ],
   "source": [
    "C=np.array([[5/4,-2/3],[1/4,5/3]]) #ANOTHER examples\n",
    "D=np.array([3,6])\n",
    "xy=np.linalg.solve(C,D)\n",
    "xy\n"
   ]
  },
  {
   "cell_type": "code",
   "execution_count": 8,
   "id": "0ab518d3",
   "metadata": {},
   "outputs": [
    {
     "data": {
      "text/plain": [
       "array([ 0,  2,  4,  6,  8, 10])"
      ]
     },
     "execution_count": 8,
     "metadata": {},
     "output_type": "execute_result"
    }
   ],
   "source": [
    "#Generate matrix\n",
    "E= np.arange(0,11,2) #create array using sacling 2 until 10\n",
    "E\n",
    "\n"
   ]
  },
  {
   "cell_type": "code",
   "execution_count": 9,
   "id": "1073925b",
   "metadata": {},
   "outputs": [
    {
     "data": {
      "text/plain": [
       "array([[ 0,  2,  4],\n",
       "       [ 6,  8, 10]])"
      ]
     },
     "execution_count": 9,
     "metadata": {},
     "output_type": "execute_result"
    }
   ],
   "source": [
    "E.reshape(2,3)  #buat matix dri value di atas #pastikan array sesuai dgn matrix yg diiginkan "
   ]
  },
  {
   "cell_type": "code",
   "execution_count": 10,
   "id": "cd367aa5",
   "metadata": {},
   "outputs": [
    {
     "data": {
      "text/plain": [
       "array([[2, 1, 2],\n",
       "       [1, 3, 1],\n",
       "       [1, 2, 2]])"
      ]
     },
     "execution_count": 10,
     "metadata": {},
     "output_type": "execute_result"
    }
   ],
   "source": [
    "A.transpose() #Transpose matrix A"
   ]
  },
  {
   "cell_type": "code",
   "execution_count": 11,
   "id": "3c734bcf",
   "metadata": {},
   "outputs": [
    {
     "data": {
      "text/plain": [
       "array([[1, 2, 3],\n",
       "       [4, 5, 6],\n",
       "       [7, 8, 9]])"
      ]
     },
     "execution_count": 11,
     "metadata": {},
     "output_type": "execute_result"
    }
   ],
   "source": [
    "A1= np.arange(1,10).reshape(3,3) \n",
    "A1"
   ]
  },
  {
   "cell_type": "code",
   "execution_count": 12,
   "id": "c6db626f",
   "metadata": {},
   "outputs": [
    {
     "data": {
      "text/plain": [
       "array([[ 0,  2,  4],\n",
       "       [ 6,  8, 10],\n",
       "       [12, 14, 16]])"
      ]
     },
     "execution_count": 12,
     "metadata": {},
     "output_type": "execute_result"
    }
   ],
   "source": [
    "A2= np.arange(0,17,2).reshape(3,3)\n",
    "A2"
   ]
  },
  {
   "cell_type": "code",
   "execution_count": 13,
   "id": "7d2131e8",
   "metadata": {},
   "outputs": [
    {
     "data": {
      "text/plain": [
       "array([[  0,   4,  12],\n",
       "       [ 24,  40,  60],\n",
       "       [ 84, 112, 144]])"
      ]
     },
     "execution_count": 13,
     "metadata": {},
     "output_type": "execute_result"
    }
   ],
   "source": [
    "#wrong style multiplication also can use np.dot(A1,A2)#\n",
    "A3= A1*A2\n",
    "A3"
   ]
  },
  {
   "cell_type": "code",
   "execution_count": 14,
   "id": "ed43f149",
   "metadata": {},
   "outputs": [
    {
     "data": {
      "text/plain": [
       "array([[ 48,  60,  72],\n",
       "       [102, 132, 162],\n",
       "       [156, 204, 252]])"
      ]
     },
     "execution_count": 14,
     "metadata": {},
     "output_type": "execute_result"
    }
   ],
   "source": [
    "#matrix multiplication using dot()\n",
    "A4= A1.dot(A2)\n",
    "A4"
   ]
  },
  {
   "cell_type": "code",
   "execution_count": 15,
   "id": "9e7c2f15",
   "metadata": {},
   "outputs": [
    {
     "data": {
      "text/plain": [
       "array([[2.+0.j, 3.+0.j],\n",
       "       [3.+0.j, 6.+0.j]])"
      ]
     },
     "execution_count": 15,
     "metadata": {},
     "output_type": "execute_result"
    }
   ],
   "source": [
    "F=np.array([[2,3],[3,6]], dtype= complex) #matrix for complex number\n",
    "F"
   ]
  },
  {
   "cell_type": "code",
   "execution_count": 16,
   "id": "18adbd2c",
   "metadata": {},
   "outputs": [
    {
     "name": "stdout",
     "output_type": "stream",
     "text": [
      "zeros matrix= \n"
     ]
    },
    {
     "data": {
      "text/plain": [
       "array([[0., 0., 0.],\n",
       "       [0., 0., 0.]])"
      ]
     },
     "execution_count": 16,
     "metadata": {},
     "output_type": "execute_result"
    }
   ],
   "source": [
    "zero_matrix= np.zeros((2,3)) #need to have double()#\n",
    "print('zeros matrix= ')     #zeros matrix\n",
    "zero_matrix"
   ]
  },
  {
   "cell_type": "code",
   "execution_count": 17,
   "id": "1f142f10",
   "metadata": {},
   "outputs": [
    {
     "data": {
      "text/plain": [
       "array([1., 1.])"
      ]
     },
     "execution_count": 17,
     "metadata": {},
     "output_type": "execute_result"
    }
   ],
   "source": [
    "ones_matrix= np.ones((2,)) #need to have double()#\n",
    "ones_matrix"
   ]
  },
  {
   "cell_type": "code",
   "execution_count": 18,
   "id": "5f4b912c",
   "metadata": {},
   "outputs": [
    {
     "data": {
      "text/plain": [
       "array([[ 1,  4,  7],\n",
       "       [10, 13, 16],\n",
       "       [19, 22, 25]])"
      ]
     },
     "execution_count": 18,
     "metadata": {},
     "output_type": "execute_result"
    }
   ],
   "source": [
    "A12= np.add(A1,A2) #addition\n",
    "A12"
   ]
  },
  {
   "cell_type": "code",
   "execution_count": 19,
   "id": "acbe945b",
   "metadata": {},
   "outputs": [
    {
     "data": {
      "text/plain": [
       "array([[ 48,  60,  72],\n",
       "       [102, 132, 162],\n",
       "       [156, 204, 252]])"
      ]
     },
     "execution_count": 19,
     "metadata": {},
     "output_type": "execute_result"
    }
   ],
   "source": [
    "G=np.dot(A1,A2) #Multiplication\n",
    "G"
   ]
  },
  {
   "cell_type": "code",
   "execution_count": 20,
   "id": "876ba2b9",
   "metadata": {},
   "outputs": [
    {
     "name": "stdout",
     "output_type": "stream",
     "text": [
      "252 48\n"
     ]
    }
   ],
   "source": [
    "print(np.max(G),np.min(G)) #MAX & MIN value"
   ]
  },
  {
   "cell_type": "code",
   "execution_count": 21,
   "id": "b045e872",
   "metadata": {},
   "outputs": [
    {
     "data": {
      "text/plain": [
       "array([[ 48, 102, 156],\n",
       "       [ 60, 132, 204],\n",
       "       [ 72, 162, 252]])"
      ]
     },
     "execution_count": 21,
     "metadata": {},
     "output_type": "execute_result"
    }
   ],
   "source": [
    "b= G.T   #transpose\n",
    "b"
   ]
  },
  {
   "cell_type": "code",
   "execution_count": 22,
   "id": "2be100ec",
   "metadata": {},
   "outputs": [],
   "source": [
    "#There is extensive list of functions that can perform almost all operations on matrix\n",
    "#1) .shape 2) .size 3).ndim 4) mean() 5) var() 6) std()#\n",
    "# 7) flatten()#"
   ]
  },
  {
   "cell_type": "code",
   "execution_count": 33,
   "id": "625b4402",
   "metadata": {},
   "outputs": [
    {
     "data": {
      "text/plain": [
       "array([ 48,  60,  72, 102, 132, 162, 156, 204, 252])"
      ]
     },
     "execution_count": 33,
     "metadata": {},
     "output_type": "execute_result"
    }
   ],
   "source": [
    "G.shape\n",
    "G.flatten()\n",
    "\n"
   ]
  },
  {
   "cell_type": "code",
   "execution_count": null,
   "id": "0b8c75d6",
   "metadata": {},
   "outputs": [],
   "source": []
  }
 ],
 "metadata": {
  "kernelspec": {
   "display_name": "Python 3 (ipykernel)",
   "language": "python",
   "name": "python3"
  },
  "language_info": {
   "codemirror_mode": {
    "name": "ipython",
    "version": 3
   },
   "file_extension": ".py",
   "mimetype": "text/x-python",
   "name": "python",
   "nbconvert_exporter": "python",
   "pygments_lexer": "ipython3",
   "version": "3.9.7"
  }
 },
 "nbformat": 4,
 "nbformat_minor": 5
}
