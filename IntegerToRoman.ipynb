{
 "cells": [
  {
   "cell_type": "code",
   "execution_count": 2,
   "id": "b89cb731",
   "metadata": {},
   "outputs": [
    {
     "name": "stdout",
     "output_type": "stream",
     "text": [
      "Enter roman integer: 1401\n",
      "The roman numeral representation for 1401 is MCDI\n"
     ]
    }
   ],
   "source": [
    "def intToRoman(num):\n",
    "    val= [1000,900,500,400,100,90,50,40,10,9,5,4,1]   \n",
    "    sym= ['M','CM','D','CD','C','XC','L','XL','X','IX','V','IV','I']\n",
    "    roman_num=''  # Initialize an empty string to store the Roman numeral representation\n",
    "    i=0   # Initialize an index variable to iterate through the value and symbol lists\n",
    "    while num > 0: # Continue the loop as long as num is greater than 0\n",
    "        for x in range(num//val[i]): # Try to loop as many times until the current value can be subtracted from num\n",
    "            roman_num += sym[i] # Add the corresponding symbol to the result\n",
    "            num -= val[i] # Subtract the value from num\n",
    "        i += 1 # Move to the next value and symbol in the lists\n",
    "    return roman_num\n",
    "num=int(input(\"Enter roman integer: \"))\n",
    "roman_numeral= intToRoman(num)\n",
    "print(f\"The roman numeral representation for {num} is {roman_numeral}\")\n",
    "            "
   ]
  },
  {
   "cell_type": "code",
   "execution_count": null,
   "id": "30d643dc",
   "metadata": {},
   "outputs": [],
   "source": []
  }
 ],
 "metadata": {
  "kernelspec": {
   "display_name": "Python 3 (ipykernel)",
   "language": "python",
   "name": "python3"
  },
  "language_info": {
   "codemirror_mode": {
    "name": "ipython",
    "version": 3
   },
   "file_extension": ".py",
   "mimetype": "text/x-python",
   "name": "python",
   "nbconvert_exporter": "python",
   "pygments_lexer": "ipython3",
   "version": "3.9.7"
  }
 },
 "nbformat": 4,
 "nbformat_minor": 5
}
