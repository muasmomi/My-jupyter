{
 "cells": [
  {
   "cell_type": "code",
   "execution_count": 49,
   "id": "7b27c67a",
   "metadata": {},
   "outputs": [
    {
     "name": "stdout",
     "output_type": "stream",
     "text": [
      "b is aperture\n",
      "λ is wavelength\n",
      "f is distance to the screen\n"
     ]
    },
    {
     "data": {
      "application/vnd.jupyter.widget-view+json": {
       "model_id": "1967d34e33ad43eda81d24fbcaf70f22",
       "version_major": 2,
       "version_minor": 0
      },
      "text/plain": [
       "interactive(children=(IntSlider(value=2500, description='b', max=5000), IntSlider(value=550, description='λ', …"
      ]
     },
     "metadata": {},
     "output_type": "display_data"
    }
   ],
   "source": [
    "from ipywidgets import interact, interactive, fixed, interact_manual\n",
    "import matplotlib.pyplot as plt\n",
    "import numpy as np\n",
    "\n",
    "print(\"b is aperture\")\n",
    "print(\"λ is wavelength\")\n",
    "print(\"f is distance to the screen\")\n",
    "\n",
    "\n",
    "def plot(b,λ,f):\n",
    "    θ=np.linspace(-np.pi/2,np.pi/2,1000)\n",
    "    y=f*np.sin(θ)\n",
    "    B = (np.pi*y*b)/(λ*f)\n",
    "    Ip = Io*((np.sin(B))**2)/(B**2)\n",
    "    plt.plot(y,Ip)\n",
    "    plt.xlabel(\"position\")\n",
    "    plt.ylabel(\"Intensity\")\n",
    "    plt.show()\n",
    "    \n",
    "interactive(plot,b=(0,5000,1),λ=(380,720,1),f=(0,10000000,1))"
   ]
  },
  {
   "cell_type": "code",
   "execution_count": null,
   "id": "bf16b9cc",
   "metadata": {},
   "outputs": [],
   "source": []
  }
 ],
 "metadata": {
  "kernelspec": {
   "display_name": "Python 3 (ipykernel)",
   "language": "python",
   "name": "python3"
  },
  "language_info": {
   "codemirror_mode": {
    "name": "ipython",
    "version": 3
   },
   "file_extension": ".py",
   "mimetype": "text/x-python",
   "name": "python",
   "nbconvert_exporter": "python",
   "pygments_lexer": "ipython3",
   "version": "3.9.7"
  }
 },
 "nbformat": 4,
 "nbformat_minor": 5
}
