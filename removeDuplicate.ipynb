{
 "cells": [
  {
   "cell_type": "code",
   "execution_count": 11,
   "id": "c137d914",
   "metadata": {},
   "outputs": [
    {
     "data": {
      "text/plain": [
       "[1, 2, 3, 4, 5]"
      ]
     },
     "execution_count": 11,
     "metadata": {},
     "output_type": "execute_result"
    }
   ],
   "source": [
    "def removeDuplicate():\n",
    "    out=[]\n",
    "    current=None \n",
    "    lists=[1,2,2,3,4,3,4,4,4,5]\n",
    "    for char in lists:\n",
    "        if current==None:\n",
    "            current=char\n",
    "            out.append(char)\n",
    "        if current!=char and char not in out:\n",
    "            current=char\n",
    "            out.append(char)\n",
    "    return out\n",
    "removeDuplicate()"
   ]
  },
  {
   "cell_type": "code",
   "execution_count": 12,
   "id": "aa222b1d",
   "metadata": {},
   "outputs": [
    {
     "name": "stdout",
     "output_type": "stream",
     "text": [
      "[1, 2, 3, 4]\n"
     ]
    }
   ],
   "source": [
    "def removeDuplicate():\n",
    "    seen = set()\n",
    "    out = []\n",
    "    lists = [1, 2, 2, 3, 4, 3]\n",
    "    for char in lists:\n",
    "        if char not in seen:\n",
    "            seen.add(char)\n",
    "            out.append(char)\n",
    "    return out\n",
    "\n",
    "result = removeDuplicate()\n",
    "print(result)\n"
   ]
  },
  {
   "cell_type": "code",
   "execution_count": 13,
   "id": "aeaf573f",
   "metadata": {},
   "outputs": [
    {
     "name": "stdout",
     "output_type": "stream",
     "text": [
      "Enter list sperated by space: 1 2 2 3 4 5 4\n"
     ]
    },
    {
     "data": {
      "text/plain": [
       "[1, 2, 3, 4, 5]"
      ]
     },
     "execution_count": 13,
     "metadata": {},
     "output_type": "execute_result"
    }
   ],
   "source": [
    "def removeDuplicate(lists): # same but user input\n",
    "    out=[]\n",
    "    current=None \n",
    "    for char in lists:\n",
    "        if current==None:\n",
    "            current=char\n",
    "            out.append(char)\n",
    "        if current!=char and char not in out:\n",
    "            current=char\n",
    "            out.append(char)\n",
    "    return out\n",
    "box=input('Enter list sperated by space: ')\n",
    "lists=box.split()\n",
    "lists=[int(element) for element in lists]\n",
    "removeDuplicate(lists)\n"
   ]
  },
  {
   "cell_type": "code",
   "execution_count": null,
   "id": "3da9abe0",
   "metadata": {},
   "outputs": [],
   "source": []
  }
 ],
 "metadata": {
  "kernelspec": {
   "display_name": "Python 3 (ipykernel)",
   "language": "python",
   "name": "python3"
  },
  "language_info": {
   "codemirror_mode": {
    "name": "ipython",
    "version": 3
   },
   "file_extension": ".py",
   "mimetype": "text/x-python",
   "name": "python",
   "nbconvert_exporter": "python",
   "pygments_lexer": "ipython3",
   "version": "3.9.7"
  }
 },
 "nbformat": 4,
 "nbformat_minor": 5
}
