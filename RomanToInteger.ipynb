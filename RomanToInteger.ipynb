{
 "cells": [
  {
   "cell_type": "code",
   "execution_count": 3,
   "id": "3400fbdb",
   "metadata": {},
   "outputs": [
    {
     "name": "stdout",
     "output_type": "stream",
     "text": [
      "Enter roman number: MCL\n"
     ]
    },
    {
     "data": {
      "text/plain": [
       "1150"
      ]
     },
     "execution_count": 3,
     "metadata": {},
     "output_type": "execute_result"
    }
   ],
   "source": [
    "#Method 1\n",
    "def romanToInt(s):\n",
    "    roman= {         #dictionary \n",
    "        \"I\":1,\n",
    "        \"V\":5,\n",
    "        \"X\":10,\n",
    "        \"L\":50,\n",
    "        \"C\":100,\n",
    "        \"D\":500,\n",
    "        \"M\":1000\n",
    "    }\n",
    "    total=0\n",
    "    for i in range(len(s)-1): #minus 1 bcuz the last index will be include when return\n",
    "        if roman[s[i]] < roman[s[i+1]]: #For roman index that smaller then next index\n",
    "            total -= roman[s[i]]\n",
    "        else:\n",
    "            total += roman[s[i]]      \n",
    "    return total + roman[s[-1]]    \n",
    "s=str(input('Enter roman number: '))\n",
    "romanToInt(s)\n",
    "            \n"
   ]
  },
  {
   "cell_type": "code",
   "execution_count": 58,
   "id": "66aef780",
   "metadata": {},
   "outputs": [
    {
     "name": "stdout",
     "output_type": "stream",
     "text": [
      "Enter roman number: MCMXCIV\n"
     ]
    },
    {
     "data": {
      "text/plain": [
       "1994"
      ]
     },
     "execution_count": 58,
     "metadata": {},
     "output_type": "execute_result"
    }
   ],
   "source": [
    "#Method 2\n",
    "def romantoint(r):\n",
    "    roman= {\n",
    "        \"I\":1,\n",
    "        \"V\":5,\n",
    "        \"X\":10,\n",
    "        \"L\":50,\n",
    "        \"C\":100,\n",
    "        \"D\":500,\n",
    "        \"M\":1000,\n",
    "    }\n",
    "    total=0\n",
    "    r=r.replace(\"IV\",\"IIII\")\n",
    "    r=r.replace(\"IX\",\"VIIII\")\n",
    "    r=r.replace(\"XL\",\"XXXX\")\n",
    "    r=r.replace(\"XC\",\"LXXXX\")\n",
    "    r=r.replace(\"CD\",\"CCCC\")\n",
    "    r=r.replace(\"CM\",\"DCCCC\")\n",
    "    for numeral in r:\n",
    "        total += roman[numeral]\n",
    "    return total\n",
    "r=str(input(\"Enter roman number: \"))\n",
    "romantoint(r)"
   ]
  },
  {
   "cell_type": "code",
   "execution_count": null,
   "id": "3e020fe1",
   "metadata": {},
   "outputs": [],
   "source": []
  }
 ],
 "metadata": {
  "kernelspec": {
   "display_name": "Python 3 (ipykernel)",
   "language": "python",
   "name": "python3"
  },
  "language_info": {
   "codemirror_mode": {
    "name": "ipython",
    "version": 3
   },
   "file_extension": ".py",
   "mimetype": "text/x-python",
   "name": "python",
   "nbconvert_exporter": "python",
   "pygments_lexer": "ipython3",
   "version": "3.9.7"
  }
 },
 "nbformat": 4,
 "nbformat_minor": 5
}
